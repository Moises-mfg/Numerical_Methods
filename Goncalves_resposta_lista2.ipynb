{
 "cells": [
  {
   "cell_type": "markdown",
   "metadata": {},
   "source": [
    "# Answers of the problem set 2 in python"
   ]
  },
  {
   "cell_type": "code",
   "execution_count": 33,
   "metadata": {},
   "outputs": [],
   "source": [
    "import numpy as np\n",
    "from scipy.stats import norm"
   ]
  },
  {
   "cell_type": "code",
   "execution_count": 38,
   "metadata": {},
   "outputs": [],
   "source": [
    "# Question 3\n",
    "\n",
    "#creating variables \n",
    "beta = 0.987 # intertemporal discount rate (discrete time)\n",
    "\n",
    "mu = 2 # risk aversion\n",
    "\n",
    "alpha = 1/3 # income of labor/ toal income \n",
    "\n",
    "delta = 0.012 # depreciation rate \n",
    "\n",
    "rho = 0.95 # persistence of the previous shock\n",
    "\n",
    "sigma = 0.007 # variance of the white error of the shock\n",
    "\n",
    "tol = 10^(-5)\n",
    "\n",
    "k_ss = (1/(alpha*beta) - (1-delta)/alpha)**(1/(alpha-1))\n"
   ]
  },
  {
   "cell_type": "code",
   "execution_count": null,
   "metadata": {},
   "outputs": [
    {
     "data": {
      "text/plain": [
       "array([[3.15477021e-01, 0.00000000e+00, 2.73242879e-02, 8.75655104e-12,\n",
       "        0.00000000e+00, 0.00000000e+00, 0.00000000e+00],\n",
       "       [3.15477021e-01, 0.00000000e+00, 2.73242879e-02, 8.75655104e-12,\n",
       "        0.00000000e+00, 0.00000000e+00, 0.00000000e+00],\n",
       "       [2.27905735e-07, 0.00000000e+00, 4.00971109e-01, 1.53169804e-02,\n",
       "        1.63535852e-12, 0.00000000e+00, 0.00000000e+00],\n",
       "       [3.70976716e-22, 0.00000000e+00, 7.78237899e-07, 4.91845414e-01,\n",
       "        8.15380770e-03, 2.88546964e-13, 0.00000000e+00],\n",
       "       [6.89208451e-46, 0.00000000e+00, 3.71364638e-21, 2.51356290e-06,\n",
       "        5.79589888e-01, 4.11928151e-03, 2.27905735e-07],\n",
       "       [1.28335356e-78, 0.00000000e+00, 2.04854313e-44, 3.51129030e-20,\n",
       "        7.68003583e-06, 6.57191011e-01, 3.15477021e-01],\n",
       "       [1.28335356e-78, 0.00000000e+00, 2.04854313e-44, 3.51129030e-20,\n",
       "        7.68003583e-06, 6.57191011e-01, 3.15477021e-01]])"
      ]
     },
     "execution_count": 43,
     "metadata": {},
     "output_type": "execute_result"
    }
   ],
   "source": [
    "# Tauchen Function\n",
    "N = 7 # number of grid points\n",
    "m = 3 # number of standard deviations\n",
    "\n",
    "# z_grid is schock grid, pi is transition matrix\n",
    "def tauchen(rho, sigma, m, N):\n",
    "    sigma_z = sigma/((1-rho**2)**0.5)\n",
    "    z_grid = np.zeros(N)\n",
    "    z_grid[0] = -m*sigma_z\n",
    "    z_grid[N-1] = m*sigma_z\n",
    "    z_grid[1:N-1] = np.linspace(z_grid[0], z_grid[N-1], N-2)\n",
    "    pi = np.zeros((N, N))\n",
    "    for k_idx in range(N):\n",
    "        for z_idx in range(N):\n",
    "            if z_idx == 0:\n",
    "                pi[k_idx, z_idx] = norm.cdf((z_grid[0] - rho*z_grid[k_idx] + (z_grid[1]-z_grid[0])/2)/sigma)\n",
    "            elif z_idx == N-1:\n",
    "                pi[k_idx, z_idx] = 1 - norm.cdf((z_grid[N-1] - rho*z_grid[k_idx] - (z_grid[N-1]-z_grid[N-2])/2)/sigma)\n",
    "            else:\n",
    "                pi[k_idx, z_idx] = norm.cdf((z_grid[z_idx] - rho*z_grid[k_idx] + (z_grid[1]-z_grid[0])/2)/sigma) - norm.cdf((z_grid[z_idx] - rho*z_grid[k_idx] - (z_grid[z_idx]-z_grid[z_idx-1])/2)/sigma)\n",
    "    return z_grid, pi\n",
    "\n",
    "z_grid, pi = tauchen(rho, sigma, m, N)\n"
   ]
  },
  {
   "cell_type": "code",
   "execution_count": 44,
   "metadata": {},
   "outputs": [],
   "source": [
    "# Iteration of the fucntion value \n",
    "k_grid_size = 500\n",
    "k_grid = np.linspace(0.75*k_ss, 1.25*k_ss, k_grid_size) # create a grid for capital\n",
    "\n",
    "iter = 0\n",
    "max_iter = 10_000\n",
    "\n",
    "V = np.zeros((k_grid_size, N)) # The value function matrix starts with zeros\n",
    "V_new = np.zeros((k_grid_size, N)) # The new value function matrix starts with zeros\n",
    "\n",
    "policy_k_prime = np.zeros((k_grid_size, N)) # The policy function matrix starts with zeros\n",
    "\n",
    "error_V_Vnew = tol + 1 # Initialize the error of the difference between the value function and the new value function\n",
    "\n",
    "# The utility function\n",
    "def u(c, mu):\n",
    "    if c<0:\n",
    "        return -1000000000\n",
    "    else:\n",
    "        return (c**(1-mu)-1)/(1-mu)\n",
    "\n",
    "\n",
    "\n",
    "\n"
   ]
  },
  {
   "cell_type": "code",
   "execution_count": null,
   "metadata": {},
   "outputs": [],
   "source": [
    "#Brute Force Iteration:\n",
    "while iter < max_iter and error_V_Vnew > tol:\n",
    "    for k_idx in range(k_grid_size):\n",
    "        for z_idx in range(N):\n",
    "            V_new[k_idx, z_idx] = -1000000000\n",
    "            for k_prime in range(k_grid_size):\n",
    "                c = (1-delta)*k_grid[k_idx] + z_grid[z_idx]*k_grid[k_idx]**alpha - k_grid[k_prime]\n",
    "                if c>0: # Am i right to create this condition? Or should  i call the utility function and set the utility function to -1000000000 if c<0?\n",
    "                    V_temp = u(c, mu) + beta*np.dot(V[k_prime, :], pi[z_idx, :])\n",
    "                    if V_temp > V_new[k_idx, z_idx]:\n",
    "                        V_new[k_idx, z_idx] = V_temp\n",
    "                        policy_k_prime[k_idx, z_idx] = k_grid[k_prime]\n",
    "    error_V_Vnew = np.max(np.abs(V - V_new))\n",
    "    V = np.copy(V_new)\n",
    "    iter += 1"
   ]
  }
 ],
 "metadata": {
  "kernelspec": {
   "display_name": "3.13.2",
   "language": "python",
   "name": "python3"
  },
  "language_info": {
   "codemirror_mode": {
    "name": "ipython",
    "version": 3
   },
   "file_extension": ".py",
   "mimetype": "text/x-python",
   "name": "python",
   "nbconvert_exporter": "python",
   "pygments_lexer": "ipython3",
   "version": "3.13.2"
  }
 },
 "nbformat": 4,
 "nbformat_minor": 2
}
